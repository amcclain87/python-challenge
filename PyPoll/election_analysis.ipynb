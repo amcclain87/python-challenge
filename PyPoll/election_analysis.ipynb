{
 "cells": [
  {
   "cell_type": "code",
   "execution_count": 35,
   "id": "32067540",
   "metadata": {
    "scrolled": false
   },
   "outputs": [
    {
     "name": "stdout",
     "output_type": "stream",
     "text": [
      "header:Ballot ID,County,Candidate\n",
      "\n",
      "Total Votes: 369711\n",
      "Charles Casper Stockham 23.049% (85213)\n",
      "Diana DeGette 73.812% (272892)\n",
      "Raymon Anthony Doane 3.139% (11606)\n",
      "Diana DeGette\n"
     ]
    }
   ],
   "source": [
    "import csv\n",
    "\n",
    "with open(\"/Users/austin2/Documents/GitHub/python-challenge/PyPoll/Resources/election_data.csv\",\"r\") as election_info:\n",
    "    info = csv.reader(election_info,delimiter = \",\")\n",
    "    header = next(election_info)\n",
    "    print(f'header:{header}')\n",
    "    \n",
    "    #create variable and lists\n",
    "    num_votes = []\n",
    "    candidates = []\n",
    "    cand_unique = []\n",
    "    \n",
    "    #create new lists\n",
    "    for data in info:\n",
    "        num_votes.append(data[0])\n",
    "        candidates.append(data[2])\n",
    "        #print(num_votes)\n",
    "        #print(data)\n",
    "    \n",
    "#calculations\n",
    "    #total votes\n",
    "    total_votes = len(num_votes)\n",
    "    #candidates who received votes\n",
    "    for unique in candidates:\n",
    "        if cand_unique.count(unique) == 0:\n",
    "            cand_unique.append(unique)\n",
    "    #votes per candidate\n",
    "    votes_1 = candidates.count(cand_unique[0])\n",
    "    votes_2 = candidates.count(cand_unique[1])\n",
    "    votes_3 = candidates.count(cand_unique[2])\n",
    "    \n",
    "    #percentages of votes per candidate\n",
    "    percent_1 = votes_1 / total_votes\n",
    "    percent_2 = votes_2 / total_votes\n",
    "    percent_3 = votes_3 / total_votes\n",
    "    \n",
    "    #winner\n",
    "    if votes_1 > votes_2 and votes_3:\n",
    "        winner = cand_unique[0]\n",
    "    elif votes_2 > votes_3 and votes_3:\n",
    "        winner = cand_unique[1]\n",
    "    else:\n",
    "        winner = cand_unique[2]\n",
    "    \n",
    "    \n",
    "    \n",
    "    #final print\n",
    "    print(\"Total Votes:\",total_votes)\n",
    "    print(cand_unique[0], f\"{percent_1:.3%}\",\"(\" + str(votes_1) + \")\")\n",
    "    print(cand_unique[1], f\"{percent_2:.3%}\",\"(\" + str(votes_2) + \")\")\n",
    "    print(cand_unique[2], f\"{percent_3:.3%}\",\"(\" + str(votes_3) + \")\")\n",
    "    print(winner)"
   ]
  },
  {
   "cell_type": "code",
   "execution_count": 40,
   "id": "f5386e83",
   "metadata": {},
   "outputs": [],
   "source": [
    "# write to a file with the analysis\n",
    "f = open(\"/Users/austin2/Documents/GitHub/python-challenge/PyPoll/analysis/election_analysis.txt\",\"w\")\n",
    "f.write(\"Election Results\\n\")\n",
    "f.write(\"-------------------------\\n\")\n",
    "f.write(\"Total Votes: \" + str(total_votes) + \"\\n\")\n",
    "f.write(\"-------------------------\\n\")\n",
    "f.write(cand_unique[0] + \": \" + f\"{percent_1:.3%}\" + \" (\" + str(votes_1) + \")\\n\")\n",
    "f.write(cand_unique[1] + \": \" + f\"{percent_2:.3%}\" + \" (\" + str(votes_2) + \")\\n\")\n",
    "f.write(cand_unique[2] + \": \" + f\"{percent_3:.3%}\" + \" (\" + str(votes_3) + \")\\n\")\n",
    "f.write(\"-------------------------\\n\")\n",
    "f.write(\"Winner: \" + winner + \"\\n\")\n",
    "f.write(\"-------------------------\\n\")\n",
    "f.close()"
   ]
  },
  {
   "cell_type": "code",
   "execution_count": null,
   "id": "4721250c",
   "metadata": {},
   "outputs": [],
   "source": []
  }
 ],
 "metadata": {
  "kernelspec": {
   "display_name": "Python 3 (ipykernel)",
   "language": "python",
   "name": "python3"
  },
  "language_info": {
   "codemirror_mode": {
    "name": "ipython",
    "version": 3
   },
   "file_extension": ".py",
   "mimetype": "text/x-python",
   "name": "python",
   "nbconvert_exporter": "python",
   "pygments_lexer": "ipython3",
   "version": "3.9.13"
  }
 },
 "nbformat": 4,
 "nbformat_minor": 5
}
