{
 "cells": [
  {
   "cell_type": "code",
   "execution_count": 1,
   "id": "3e6f2888",
   "metadata": {},
   "outputs": [],
   "source": [
    "# this is for PyBank"
   ]
  },
  {
   "cell_type": "code",
   "execution_count": 84,
   "id": "b8f9d6b6",
   "metadata": {},
   "outputs": [
    {
     "name": "stdout",
     "output_type": "stream",
     "text": [
      "header:Date,Profit/Losses\n",
      "\n",
      "Financial Analysis\n",
      "-----------------------------\n",
      "Total Months: 86\n",
      "Total: 22564198\n",
      "Average Change: still to be determined\n",
      "Greatest Increase in Profits: Mar-13 (1141840)\n",
      "Greatest Decrease in Profits: Dec-10 (-1194133)\n"
     ]
    }
   ],
   "source": [
    "import csv\n",
    " \n",
    "with open(\"/Users/austin2/Documents/GitHub/python-challenge/PyBank/Resources/budget_data.csv\",\"r\") as bankinfo:\n",
    "    info = csv.reader(bankinfo,delimiter = \",\")\n",
    "    header = next(bankinfo)\n",
    "    print(f'header:{header}')\n",
    "    num_months = []\n",
    "    profit_month = []\n",
    "    total_profit = 0\n",
    "    greatest_in = 0\n",
    "    greatest_de = 0\n",
    "    \n",
    "    for data in info:\n",
    "        num_months.append(data[0])\n",
    "        profit_month.append(data[1])\n",
    "        total_profit = total_profit + int(data[1])\n",
    "        if int(data[1]) > greatest_in:\n",
    "            greatest_in = int(data[1])\n",
    "            greatest_month = data[0]\n",
    "        if int(data[1]) < greatest_de:\n",
    "            greatest_de = int(data[1])\n",
    "            lowest_month = data[0]\n",
    "        \n",
    "    #Calculations\n",
    "    total_months = len(num_months)\n",
    "    \n",
    "    \n",
    "    print(\"Financial Analysis\")\n",
    "    print(\"-----------------------------\")\n",
    "    print(\"Total Months:\",total_months)\n",
    "    print(\"Total:\",total_profit)\n",
    "    print(\"Average Change: still to be determined\")\n",
    "    print(\"Greatest Increase in Profits:\",greatest_month,\"(\" + str(greatest_in) + \")\")\n",
    "    print(\"Greatest Decrease in Profits:\",lowest_month,\"(\" + str(greatest_de) + \")\")\n",
    "    \n",
    "        \n",
    "    \n",
    "    #all correct for reference only\n",
    "#     total_months = len(num_months)\n",
    "#     first_month = profit_month[0]\n",
    "#     last_month = profit_month[total_months-1]\n",
    "#     print(first_month)\n",
    "#     print(last_month)\n",
    "#     print(\"Total Months:\",total_months)\n",
    "#     print(\"Total:\",total_profit)\n",
    "#     print(greatest_in)\n",
    "#     print(greatest_month)        \n",
    "#     print(greatest_de)\n",
    "#     print(lowest_month)\n",
    "    \n",
    "        \n",
    "        \n"
   ]
  },
  {
   "cell_type": "code",
   "execution_count": 96,
   "id": "ba46f095",
   "metadata": {},
   "outputs": [],
   "source": [
    "# write to a fil with the analysis\n",
    "f = open(\"/Users/austin2/Documents/GitHub/python-challenge/PyBank/analysis/profit_analysis.txt\",\"w\")\n",
    "f.write(\"Financial Analysis\\n\")\n",
    "f.write(\"-----------------------------\\n\")\n",
    "f.write(\"Total Months: \" + str(total_months) + \"\\n\")\n",
    "f.write(\"Total: \" + str(total_profit) + \"\\n\")\n",
    "f.write(\"Average Change: still to be determined\\n\")\n",
    "f.write(\"Greatest Increase in Profits: \" + str(greatest_month) + \" (\" + str(greatest_in) + \")\\n\")\n",
    "f.write(\"Greatest Decrease in Profits: \" + str(lowest_month) + \" (\" + str(greatest_de) + \")\\n\")\n",
    "f.close()\n",
    "\n",
    "# f = open(\"/Users/austin2/Documents/GitHub/python-challenge/PyBank/file.txt\",\"r\")\n",
    "# print(f.read())\n",
    "    "
   ]
  },
  {
   "cell_type": "code",
   "execution_count": null,
   "id": "c78e6d39",
   "metadata": {},
   "outputs": [],
   "source": [
    "#average change? Don't think this is right\n",
    "change = 0\n",
    "av_change = []\n",
    "average = 0\n",
    "for month in profit_month:\n",
    "    change = int(month) + int(change)\n",
    "    av_change.append(change)\n",
    "    change = month\n",
    "\n",
    "for i in av_change:\n",
    "    average = average + i\n",
    "print(average/86)"
   ]
  },
  {
   "cell_type": "code",
   "execution_count": null,
   "id": "23bf2f0f",
   "metadata": {},
   "outputs": [],
   "source": []
  }
 ],
 "metadata": {
  "kernelspec": {
   "display_name": "Python 3 (ipykernel)",
   "language": "python",
   "name": "python3"
  },
  "language_info": {
   "codemirror_mode": {
    "name": "ipython",
    "version": 3
   },
   "file_extension": ".py",
   "mimetype": "text/x-python",
   "name": "python",
   "nbconvert_exporter": "python",
   "pygments_lexer": "ipython3",
   "version": "3.9.13"
  }
 },
 "nbformat": 4,
 "nbformat_minor": 5
}
