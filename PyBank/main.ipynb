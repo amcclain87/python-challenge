{
 "cells": [
  {
   "cell_type": "code",
   "execution_count": 29,
   "id": "b8f9d6b6",
   "metadata": {},
   "outputs": [
    {
     "name": "stdout",
     "output_type": "stream",
     "text": [
      "header:['Date', 'Profit/Losses']\n",
      "Financial Analysis\n",
      "-----------------------------\n",
      "Total Months: 86\n",
      "Total: $22,564,198\n",
      "Average Change: $-8,214.47\n",
      "Greatest Increase in Profits: Mar-13 ($1,141,840)\n",
      "Greatest Decrease in Profits: Dec-10 ($-1,194,133)\n"
     ]
    }
   ],
   "source": [
    "#import csv library\n",
    "import csv\n",
    "\n",
    "#open csv file\n",
    "with open(\"/Users/austin2/Documents/GitHub/python-challenge/PyBank/Resources/budget_data.csv\",\"r\") as bankinfo:\n",
    "    #csv reader\n",
    "    info = csv.reader(bankinfo,delimiter = \",\")\n",
    "    #csv header\n",
    "    header = next(info)\n",
    "\n",
    "    #set months list\n",
    "    num_months = []\n",
    "    #set list for profit for each month\n",
    "    profit_month = []\n",
    "    #start calculation of total profit at 0\n",
    "    total_profit = 0\n",
    "    #start comparision for greatest increase at 0 and look for next largest number\n",
    "    greatest_in = 0\n",
    "    #start comparision for greatest decrease at 0 and look for the next lowest number\n",
    "    greatest_de = 0\n",
    "    \n",
    "    #for loop that runs through csv data\n",
    "    for data in info:\n",
    "        #add each month into the num_months list to calculate total months\n",
    "        num_months.append(data[0])\n",
    "        #add profit made each month to the profit_month list in order to pull the first and last profits to caluculate average change\n",
    "        profit_month.append(data[1])\n",
    "        #add each month's profit to total_profit\n",
    "        total_profit = total_profit + int(data[1])\n",
    "        #if statement to determine month with the greatest increase\n",
    "        if int(data[1]) > greatest_in:\n",
    "            #if the profit is greater then greatest_in, then set the profit at greatest_in, and that month as the greatest_month\n",
    "            greatest_in = int(data[1])\n",
    "            greatest_month = data[0]\n",
    "        #if statement to determine month with the greatest decrease\n",
    "        if int(data[1]) < greatest_de:\n",
    "            #if the profit is lower than greatest_de, then set the profit at greatest_de, and that month as the lowest_month\n",
    "            greatest_de = int(data[1])\n",
    "            lowest_month = data[0]\n",
    "        \n",
    "    \n",
    "    #calculate the total number of months in the list using the length function\n",
    "    total_months = (len(num_months))\n",
    "    #calculate the profit from the first month of the csv\n",
    "    first_month = profit_month[0]\n",
    "    #calculate the profit from the last month of the csv\n",
    "    last_month = profit_month[total_months-1]\n",
    "    #calculate the average profit\n",
    "    av_profit = (int(last_month) - int(first_month))/total_months\n",
    "    \n",
    "    #formating how analysis is printed\n",
    "    print(\"Financial Analysis\")\n",
    "    print(\"-----------------------------\")\n",
    "    print(\"Total Months:\",total_months)\n",
    "    print(\"Total:\",\"${:,}\".format(int(total_profit)))\n",
    "    print(\"Average Change:\",\"${:,.6}\".format(av_profit))\n",
    "    print(\"Greatest Increase in Profits:\",greatest_month,\"(\" + str(\"${:,}\".format(greatest_in)) + \")\")\n",
    "    print(\"Greatest Decrease in Profits:\",lowest_month,\"(\" + str(\"${:,}\".format(greatest_de)) + \")\")\n",
    "    \n",
    "        "
   ]
  },
  {
   "cell_type": "code",
   "execution_count": 30,
   "id": "ba46f095",
   "metadata": {},
   "outputs": [],
   "source": [
    "# write to a file with the analysis\n",
    "\n",
    "#this function either creates a new file if one doesn't exist or rewrites a file at this destination\n",
    "f = open(\"/Users/austin2/Documents/GitHub/python-challenge/PyBank/analysis/profit_analysis.txt\",\"w\")\n",
    "#formating the printing with dollar signs and commas for currency\n",
    "f.write(\"Financial Analysis\\n\")\n",
    "f.write(\"-----------------------------\\n\")\n",
    "f.write(\"Total Months: \" + str(total_months) + \"\\n\")\n",
    "f.write(\"Total: \" + str(\"${:,}\".format(total_profit)) + \"\\n\")\n",
    "f.write(\"Average Change:\" + str(\"${:,.6}\".format(av_profit)) + \"\\n\")\n",
    "f.write(\"Greatest Increase in Profits: \" + str(greatest_month) + \" (\" + str(\"${:,}\".format(greatest_in)) + \")\\n\")\n",
    "f.write(\"Greatest Decrease in Profits: \" + str(lowest_month) + \" (\" + str(\"${:,}\".format(greatest_de)) + \")\\n\")\n",
    "#closes the file that was just writen\n",
    "f.close()\n",
    "\n",
    "\n",
    "    "
   ]
  }
 ],
 "metadata": {
  "kernelspec": {
   "display_name": "Python 3 (ipykernel)",
   "language": "python",
   "name": "python3"
  },
  "language_info": {
   "codemirror_mode": {
    "name": "ipython",
    "version": 3
   },
   "file_extension": ".py",
   "mimetype": "text/x-python",
   "name": "python",
   "nbconvert_exporter": "python",
   "pygments_lexer": "ipython3",
   "version": "3.9.13"
  }
 },
 "nbformat": 4,
 "nbformat_minor": 5
}
